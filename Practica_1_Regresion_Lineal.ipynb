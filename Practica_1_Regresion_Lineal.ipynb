{
  "cells": [
    {
      "cell_type": "markdown",
      "metadata": {
        "id": "-mar06m8wbE0"
      },
      "source": [
        "#Practica 1: Regresión Lineal\n",
        "\n",
        "## Alumno: Cano Portugal Israel Daniel Arturo\n",
        "## Profesor: Jiménez Alcantar Daniel\n",
        "## Grupo: 5AV1\n",
        "## Materia: Aprendizaje a Maquina e Inteligencia Artificial\n",
        "\n"
      ]
    },
    {
      "cell_type": "markdown",
      "metadata": {
        "id": "fHoooX62xHrA"
      },
      "source": [
        "## Introduccion\n",
        "La regresión lineal es un método estadístico y de machine learning utilizado para modelar la relación entre una variable dependiente (también llamada variable de respuesta o target) y una o más variables independientes (predictores o features). El objetivo principal es predecir valores continuos de la variable dependiente basados en los predictores, asumiendo que existe una relación lineal entre ellos.\n",
        "\n",
        "Fórmula Básica: En su forma simple (regresión lineal univariada), se representa como:\n",
        "$$y = \\beta_0 + \\beta_1 x + \\epsilon$$\n",
        "Donde:\n",
        "\n",
        "* $ y $: Variable dependiente (lo que queremos predecir).\n",
        "* $ x $: Variable independiente.\n",
        "* $ \\beta_0 $: Intersección (bias).\n",
        "* $ \\beta_1 $: Pendiente (coeficiente que indica la fuerza y dirección de la relación).\n",
        "* $ \\epsilon $: Término de error (residuos aleatorios).\n",
        "\n",
        "\n",
        "\n",
        "En la regresión lineal múltiple, se extiende a múltiples variables independientes:\n",
        "$$y = \\beta_0 + \\beta_1 x_1 + \\beta_2 x_2 + \\dots + \\beta_n x_n + \\epsilon$$\n",
        "Este modelo se entrena minimizando el error cuadrático medio (MSE) mediante técnicas como el método de los mínimos cuadrados ordinarios (OLS) o gradiente descendente. Es ampliamente usado en escenarios como predicción de precios, estimación de ventas o análisis de tendencias.\n",
        "\n",
        "Ventajas: Simple de implementar, interpretable y eficiente computacionalmente.\n",
        "\n",
        "Limitaciones: Asume linealidad, independencia de errores y homocedasticidad (varianza constante de errores). No maneja bien datos no lineales o outliers sin preprocesamiento.\n",
        "Aplicaciones Reales: En finanzas (predicción de precios de acciones), marketing (estimación de ROI) o salud (predicción de peso basado en altura y edad).\n"
      ]
    },
    {
      "cell_type": "markdown",
      "metadata": {
        "id": "Pbl_p_X_5vNG"
      },
      "source": [
        "## Problematica\n",
        "Se debe automatizar y recoletar un dataset a partir de los tickets de ventas de productos, asegurándose de que los datos estén correctamente preprocesados y estructurados para poder integrarlos en un modelo de aprendizaje automático de regresión lineal."
      ]
    },
    {
      "cell_type": "markdown",
      "metadata": {
        "id": "fPIiXQuA6KKW"
      },
      "source": [
        "## Metodologia\n",
        "\n",
        "Para esta práctica, se adopta una metodología de ciencia de datos basada en el marco CRISP-DM (Cross-Industry Standard Process for Data Mining). CRISP-DM proporciona un proceso iterativo y estructurado, dividido en seis fases principales: Comprensión del Negocio, Comprensión de los Datos, Preparación de los Datos, Modelado, Evaluación y Despliegue. Esta metodología se adapta específicamente a la práctica, enfocándose en las fases relevantes para la extracción de datos no estructurados (PDFs) y su preparación para modelado predictivo. El proceso es iterativo, permitiendo retroalimentación entre fases para refinar resultados.\n",
        "\n",
        "Se utilizan herramientas de programación en Python para garantizar reproducibilidad, eficiencia y escalabilidad. A continuación, se detalla cada fase adaptada al contexto de la práctica."
      ]
    },
    {
      "cell_type": "markdown",
      "metadata": {
        "id": "sMo0In7wE4sZ"
      },
      "source": [
        "### **1. Comprensión del Negocio (Business Understanding)**\n",
        "\n",
        "El desafío de esta práctica se centra en la transformación de datos no estructurados, provenientes de tickets de venta en formato PDF, en información valiosa para la toma de decisiones empresariales. La meta es predecir variables continuas, como el valor total de una venta, basándose en atributos extraídos de estos tickets. Para ello, se empleará la regresión lineal como una herramienta de Machine Learning que permita modelar y comprender las relaciones entre las variables.\n",
        "\n",
        "**Problema del Negocio:**\n",
        "La empresa necesita automatizar el análisis de sus ventas. Los datos están dispersos en tickets de venta en formato PDF, lo que impide un análisis ágil y la identificación de patrones clave. Esto obstaculiza la capacidad de la empresa para pronosticar ingresos, optimizar precios y entender el impacto de los diferentes factores de venta.\n",
        "\n",
        "**Objetivos:**\n",
        "* **Crear un Dataset Estructurado:** Generar un dataset limpio y unificado a partir de los tickets en PDF, asegurando que los datos estén listos para el análisis y el modelado predictivo.\n",
        "* **Construir un Modelo Predictivo:** Desarrollar un modelo de regresión lineal capaz de predecir con precisión el total de la venta de un ticket basándose en la cantidad y el tipo de productos, así como el método de pago.\n",
        "* **Identificar Factores Clave de Ingresos:** Analizar los coeficientes del modelo para identificar qué variables (por ejemplo, tipos de productos, descuentos, etc.) tienen el mayor impacto en el total de la venta.\n",
        "\n",
        "**Criterios de Éxito:**\n",
        "* **Calidad del Dataset:** El dataset final debe tener menos del 5% de valores faltantes y una estructura que facilite la ingesta en un modelo de Machine Learning.\n",
        "* **Rendimiento del Modelo:** El modelo de regresión lineal debe alcanzar un $R^2$ ajustado superior a 0.85 en el conjunto de datos de prueba, con un Error Absoluto Medio (MAE) que demuestre que el modelo tiene la capacidad de hacer predicciones precisas.\n",
        "* **Interpretación:** Los coeficientes del modelo deben ser interpretables y proporcionar información clara sobre las relaciones entre los predictores y la variable objetivo, permitiendo una fácil comunicación de los hallazgos a las partes interesadas del negocio."
      ]
    },
    {
      "cell_type": "markdown",
      "metadata": {
        "id": "X1EY9cj5FBaj"
      },
      "source": [
        "### **2. Comprensión de los Datos (Data Understanding)**\n",
        "\n",
        "El objetivo de esta fase es examinar y comprender los datos brutos extraídos de los tickets en PDF para identificar su estructura, calidad y posibles limitaciones antes de la preparación y el modelado.\n",
        "\n",
        "**Inspección de Tickets:** Los 5 tickets muestran una estructura consistente:"
      ]
    },
    {
      "cell_type": "code",
      "execution_count": 6,
      "metadata": {},
      "outputs": [],
      "source": [
        "# Importar bibliotecas necesarias\n",
        "import os\n",
        "import random\n",
        "import pdfplumber\n",
        "import pandas as pd\n",
        "import re\n",
        "import numpy as np\n",
        "import matplotlib.pyplot as plt\n",
        "import seaborn as sns\n",
        "import statsmodels.api as sm\n",
        "from sklearn.model_selection import train_test_split\n",
        "from sklearn.linear_model import LinearRegression, Lasso, RANSACRegressor\n",
        "from sklearn.metrics import r2_score, mean_squared_error, mean_absolute_error, make_scorer\n",
        "from sklearn.preprocessing import StandardScaler\n",
        "from sklearn.model_selection import cross_val_score, train_test_split, KFold, GridSearchCV  \n",
        "from statsmodels.stats.outliers_influence import variance_inflation_factor\n",
        "from sklearn.decomposition import PCA"
      ]
    },
    {
      "cell_type": "code",
      "execution_count": 7,
      "metadata": {
        "colab": {
          "base_uri": "https://localhost:8080/"
        },
        "id": "8j0nRQJGwa6M",
        "outputId": "c5d1e726-c19d-4067-e12d-445fa9c80ea1"
      },
      "outputs": [
        {
          "name": "stdout",
          "output_type": "stream",
          "text": [
            "\n",
            "=== Contenido del PDF: Ticket_NXDFIZ.pdf ===\n",
            "\n",
            "Página 1:\n",
            "TICKET DE COMPRA\n",
            "Ticket #NXDFIZ\n",
            "Fecha: 23/07/2025\n",
            "Lugar de pago: Tienda Walmart\n",
            "Método de pago: Tarjeta\n",
            "Subtotal: $4625.08\n",
            "Descuento: $0.00\n",
            "IVA (16%): $740.01\n",
            "Total: $5355.52\n",
            "Cant Producto Precio Total\n",
            "3 Pollo 1kg $121.09 $363.28\n",
            "1 Huevos 12pz $76.89 $76.89\n",
            "2 Pollo 1kg $117.17 $234.35\n",
            "3 Detergente 2kg $86.42 $259.26\n",
            "2 Arroz 1kg $41.63 $83.26\n",
            "3 Huevos 12pz $76.30 $228.89\n",
            "2 Pollo 1kg $119.69 $239.39\n",
            "3 Leche 1L $25.47 $76.40\n",
            "1 Microondas $1943.38 $1943.38\n",
            "3 Pan Baguette $28.79 $86.37\n",
            "8 Pollo 1kg $124.66 $997.29\n",
            "1 Refresco 2L $36.32 $36.32\n",
            "\n",
            "=== Contenido del PDF: Ticket_3L9QAN.pdf ===\n",
            "\n",
            "Página 1:\n",
            "TICKET DE COMPRA\n",
            "Ticket #3L9QAN\n",
            "Fecha: 29/08/2025\n",
            "Lugar de pago: Tienda Walmart\n",
            "Método de pago: Tarjeta\n",
            "Subtotal: $6439.07\n",
            "Descuento: $321.95\n",
            "IVA (16%): $978.74\n",
            "Total: $7142.93\n",
            "Cant Producto Precio Total\n",
            "1 Leche 1L $26.20 $26.20\n",
            "3 Refresco 2L $36.58 $109.73\n",
            "2 Licuadora $783.81 $1567.63\n",
            "3 Pollo 1kg $117.91 $353.72\n",
            "3 Detergente 2kg $89.35 $268.05\n",
            "1 Detergente 2kg $93.36 $93.36\n",
            "1 Huevos 12pz $78.97 $78.97\n",
            "1 Sartén antiadherente $352.10 $352.10\n",
            "1 Microondas $2047.02 $2047.02\n",
            "2 Licuadora $771.15 $1542.29\n",
            "\n",
            "=== Contenido del PDF: Ticket_0SFZBF.pdf ===\n",
            "\n",
            "Página 1:\n",
            "TICKET DE COMPRA\n",
            "Ticket #0SFZBF\n",
            "Fecha: 20/06/2025\n",
            "Lugar de pago: Tienda Walmart\n",
            "Método de pago: Efectivo\n",
            "Subtotal: $4956.86\n",
            "Descuento: $0.00\n",
            "IVA (16%): $793.10\n",
            "Total: $5739.60\n",
            "Cant Producto Precio Total\n",
            "2 Pollo 1kg $118.42 $236.84\n",
            "1 Leche 1L $25.91 $25.91\n",
            "2 Pollo 1kg $115.99 $231.97\n",
            "1 Pan Baguette $29.12 $29.12\n",
            "2 Detergente 2kg $88.31 $176.62\n",
            "1 Sartén antiadherente $360.28 $360.28\n",
            "3 Refresco 2L $35.36 $106.08\n",
            "1 Sartén antiadherente $366.22 $366.22\n",
            "2 Audífonos $1526.49 $3052.99\n",
            "3 Pollo 1kg $123.61 $370.83\n",
            "\n",
            "=== Contenido del PDF: Ticket_RIXCMY.pdf ===\n",
            "\n",
            "Página 1:\n",
            "TICKET DE COMPRA\n",
            "Ticket #RIXCMY\n",
            "Fecha: 16/08/2025\n",
            "Lugar de pago: Tienda Walmart\n",
            "Método de pago: Tarjeta\n",
            "Subtotal: $5172.92\n",
            "Descuento: $0.00\n",
            "IVA (16%): $827.67\n",
            "Total: $6029.61\n",
            "Cant Producto Precio Total\n",
            "3 Huevos 12pz $77.39 $232.17\n",
            "3 Sartén antiadherente $339.19 $1017.56\n",
            "1 Sartén antiadherente $342.07 $342.07\n",
            "2 Leche 1L $25.13 $50.25\n",
            "1 Leche 1L $24.07 $24.07\n",
            "2 Licuadora $812.18 $1624.35\n",
            "3 Arroz 1kg $40.62 $121.85\n",
            "2 Leche 1L $25.98 $51.96\n",
            "2 Licuadora $798.58 $1597.16\n",
            "2 Arroz 1kg $40.73 $81.45\n",
            "1 Pan Baguette $30.03 $30.03\n",
            "\n",
            "=== Contenido del PDF: Ticket_9AQPIV.pdf ===\n",
            "\n",
            "Página 1:\n",
            "TICKET DE COMPRA\n",
            "Ticket #9AQPIV\n",
            "Fecha: 16/07/2025\n",
            "Lugar de pago: Tienda Walmart\n",
            "Método de pago: Tarjeta\n",
            "Subtotal: $89112.21\n",
            "Descuento: $4455.61\n",
            "IVA (16%): $13545.06\n",
            "Total: $98188.38\n",
            "Cant Producto Precio Total\n",
            "30 Sartén antiadherente $288.72 $8661.47\n",
            "2 Licuadora $774.82 $1549.64\n",
            "3 Arroz 1kg $35.09 $105.27\n",
            "2 Leche 1L $24.65 $49.31\n",
            "8 Microondas $1994.83 $15958.68\n",
            "2 Leche 1L $25.80 $51.60\n",
            "4 Microondas $1941.85 $7767.39\n",
            "1 Detergente 2kg $93.33 $93.33\n",
            "38 Licuadora $620.48 $23578.06\n",
            "12 Audífonos $1444.58 $17334.99\n",
            "20 Refresco 2L $33.77 $675.46\n",
            "8 Audífonos $1541.50 $12332.00\n",
            "39 Leche 1L $24.49 $955.01\n"
          ]
        }
      ],
      "source": [
        "# Configurar la ruta de los PDFs\n",
        "path = \"C:/Users/Administrator/Documents/tarea/ESCOM/5S/ML/TicketsPDF/\"\n",
        "\n",
        "# Obtener lista de archivos PDF en la carpeta\n",
        "pdf_files = [f for f in os.listdir(path) if f.endswith('.pdf')]\n",
        "\n",
        "# Seleccionar 5 PDFs aleatorios\n",
        "random.seed(42)  # Para reproducibilidad\n",
        "selected_pdfs = random.sample(pdf_files, min(5, len(pdf_files)))  # Asegura no exceder el número de archivos\n",
        "\n",
        "# Función para extraer y mostrar texto de un PDF\n",
        "def visualizar_pdf(file_path):\n",
        "    print(f\"\\n=== Contenido del PDF: {os.path.basename(file_path)} ===\")\n",
        "    try:\n",
        "        with pdfplumber.open(file_path) as pdf:\n",
        "            for i, page in enumerate(pdf.pages):\n",
        "                print(f\"\\nPágina {i+1}:\")\n",
        "                # Extraer texto crudo\n",
        "                text = page.extract_text()\n",
        "                if text:\n",
        "                    print(text)\n",
        "                else:\n",
        "                    print(\"No se encontró texto en esta página. ¿Es un PDF escaneado?\")\n",
        "                # Extraer tablas si existen\n",
        "                tables = page.extract_tables()\n",
        "                if tables:\n",
        "                    print(\"\\nTablas encontradas en la página:\")\n",
        "                    for j, table in enumerate(tables):\n",
        "                        # Convertir tabla a DataFrame para mejor visualización\n",
        "                        df_table = pd.DataFrame(table)\n",
        "                        print(f\"\\nTabla {j+1}:\")\n",
        "                        print(df_table)\n",
        "    except Exception as e:\n",
        "        print(f\"Error al procesar {file_path}: {e}\")\n",
        "\n",
        "# Visualizar los 5 PDFs seleccionados\n",
        "for pdf_file in selected_pdfs:\n",
        "    full_path = os.path.join(path, pdf_file)\n",
        "    visualizar_pdf(full_path)"
      ]
    },
    {
      "cell_type": "markdown",
      "metadata": {},
      "source": [
        "Los 5 tickets aleatorios que se visualizan revelan una estructura consistente:\n",
        "\n",
        "**Metadatos del Ticket:** Cada ticket contiene un encabezado con información clave:\n",
        "\n",
        "* Ticket # (un identificador único).\n",
        "* Fecha (en formato dd/mm/yyyy).\n",
        "* Lugar de pago y Método de pago.\n",
        "* Un resumen financiero con Subtotal, Descuento, IVA y Total.\n",
        "* Tabla de Ítems: Un cuerpo con una tabla de ítems que detalla cada producto vendido, incluyendo las columnas Cant, Producto, Precio (unitario) y Total (por ítem)."
      ]
    },
    {
      "cell_type": "code",
      "execution_count": 8,
      "metadata": {},
      "outputs": [],
      "source": [
        "# Lista para almacenar datos y errores\n",
        "datos = []\n",
        "errores = []\n",
        "\n",
        "# Regex mejorado\n",
        "regex_patterns = {\n",
        "    'ticket_id': r'Ticket #(\\w+)',\n",
        "    'fecha': r'Fecha:\\s*(\\d{2}/\\d{2}/\\d{4})',\n",
        "    'subtotal': r'Subtotal:\\s*\\$([\\d\\.]+)',\n",
        "    'descuento': r'Descuento:\\s*\\$([\\d\\.]+)',\n",
        "    'iva': r'IVA\\s*\\(16%\\):\\s*\\$([\\d\\.]+)',\n",
        "    'total': r'Total:\\s*\\$([\\d\\.]+)',\n",
        "    'metodo_pago': r'Método de pago:\\s*(\\w+)',\n",
        "    'items': r'^(\\d+)\\s+([^\\d\\n][^\\$]*?)\\s+\\$(\\d+\\.\\d{2})\\s+\\$(\\d+\\.\\d{2})$'\n",
        "}\n",
        "\n",
        "# Procesar cada PDF\n",
        "for pdf_file in pdf_files:\n",
        "    full_path = os.path.join(path, pdf_file)\n",
        "    try:\n",
        "        with pdfplumber.open(full_path) as pdf:\n",
        "            if not pdf.pages:\n",
        "                errores.append(f\"{pdf_file}: PDF vacío\")\n",
        "                continue\n",
        "            page = pdf.pages[0]\n",
        "            text = page.extract_text()\n",
        "            if not text:\n",
        "                errores.append(f\"{pdf_file}: No se pudo extraer texto\")\n",
        "                continue\n",
        "\n",
        "            # Extraer metadatos\n",
        "            ticket_id = re.search(regex_patterns['ticket_id'], text)\n",
        "            ticket_id = ticket_id.group(1) if ticket_id else 'Unknown'\n",
        "\n",
        "            fecha = re.search(regex_patterns['fecha'], text)\n",
        "            fecha = fecha.group(1) if fecha else '01/01/2000'\n",
        "\n",
        "            subtotal = re.search(regex_patterns['subtotal'], text)\n",
        "            subtotal = float(subtotal.group(1)) if subtotal else 0.0\n",
        "\n",
        "            descuento = re.search(regex_patterns['descuento'], text)\n",
        "            descuento = float(descuento.group(1)) if descuento else 0.0\n",
        "\n",
        "            iva = re.search(regex_patterns['iva'], text)\n",
        "            iva = float(iva.group(1)) if iva else 0.0\n",
        "\n",
        "            total = re.search(regex_patterns['total'], text)\n",
        "            total = float(total.group(1)) if total else 0.0\n",
        "\n",
        "            metodo_pago = re.search(regex_patterns['metodo_pago'], text)\n",
        "            metodo_pago = metodo_pago.group(1) if metodo_pago else 'Unknown'\n",
        "\n",
        "            # Extraer ítems (línea por línea para evitar cabecera)\n",
        "            lines = text.split('\\n')\n",
        "            for line in lines:\n",
        "                match = re.match(regex_patterns['items'], line, re.MULTILINE)\n",
        "                if match:\n",
        "                    cantidad, producto, precio, total_item = match.groups()\n",
        "                    # Limpiar producto\n",
        "                    match_prod = re.match(r'(\\d+)\\s+(.+)', producto)\n",
        "                    if match_prod:\n",
        "                        cantidad = int(match_prod.group(1))  # Usar número inicial como cantidad\n",
        "                        producto_limpio = match_prod.group(2).strip()\n",
        "                    else:\n",
        "                        cantidad = int(cantidad)\n",
        "                        producto_limpio = producto.strip()\n",
        "\n",
        "                    # Normalizar producto\n",
        "                    producto_limpio = re.sub(r'\\s+', ' ', producto_limpio)  # Normalizar espacios\n",
        "                    producto_limpio = producto_limpio.replace('  ', ' ').strip()\n",
        "\n",
        "                    # Validar cantidad\n",
        "                    if cantidad <= 0 or cantidad > 50:\n",
        "                        errores.append(f\"{pdf_file}: Cantidad anómala {cantidad} para '{producto_limpio}'\")\n",
        "                        continue\n",
        "\n",
        "                    # Validar Total_Ítem\n",
        "                    precio_float = float(precio)\n",
        "                    total_item_float = float(total_item)\n",
        "                    if abs(total_item_float - cantidad * precio_float) > 0.01:\n",
        "                        errores.append(f\"{pdf_file}: Discrepancia en Total_Ítem para '{producto_limpio}'\")\n",
        "\n",
        "                    datos.append({\n",
        "                        'Ticket': ticket_id,\n",
        "                        'Fecha': fecha,\n",
        "                        'Producto': producto_limpio,\n",
        "                        'Cantidad': cantidad,\n",
        "                        'Precio': precio_float,\n",
        "                        'Total_Ítem': total_item_float,\n",
        "                        'Subtotal': subtotal,\n",
        "                        'Descuento': descuento,\n",
        "                        'IVA': iva,\n",
        "                        'Total': total,\n",
        "                        'Método_Pago': metodo_pago\n",
        "                    })\n",
        "\n",
        "    except Exception as e:\n",
        "        errores.append(f\"{pdf_file}: {str(e)}\")\n",
        "\n",
        "# Crear DataFrame\n",
        "df = pd.DataFrame(datos)"
      ]
    },
    {
      "cell_type": "code",
      "execution_count": 9,
      "metadata": {},
      "outputs": [
        {
          "name": "stdout",
          "output_type": "stream",
          "text": [
            "Primeras filas del DataFrame:\n"
          ]
        },
        {
          "data": {
            "text/html": [
              "<div>\n",
              "<style scoped>\n",
              "    .dataframe tbody tr th:only-of-type {\n",
              "        vertical-align: middle;\n",
              "    }\n",
              "\n",
              "    .dataframe tbody tr th {\n",
              "        vertical-align: top;\n",
              "    }\n",
              "\n",
              "    .dataframe thead th {\n",
              "        text-align: right;\n",
              "    }\n",
              "</style>\n",
              "<table border=\"1\" class=\"dataframe\">\n",
              "  <thead>\n",
              "    <tr style=\"text-align: right;\">\n",
              "      <th></th>\n",
              "      <th>Ticket</th>\n",
              "      <th>Fecha</th>\n",
              "      <th>Producto</th>\n",
              "      <th>Cantidad</th>\n",
              "      <th>Precio</th>\n",
              "      <th>Total_Ítem</th>\n",
              "      <th>Subtotal</th>\n",
              "      <th>Descuento</th>\n",
              "      <th>IVA</th>\n",
              "      <th>Total</th>\n",
              "      <th>Método_Pago</th>\n",
              "    </tr>\n",
              "  </thead>\n",
              "  <tbody>\n",
              "    <tr>\n",
              "      <th>0</th>\n",
              "      <td>00B8DM</td>\n",
              "      <td>2025-07-31</td>\n",
              "      <td>Pan Baguette</td>\n",
              "      <td>3</td>\n",
              "      <td>31.20</td>\n",
              "      <td>93.59</td>\n",
              "      <td>4814.12</td>\n",
              "      <td>0.0</td>\n",
              "      <td>770.26</td>\n",
              "      <td>5650.43</td>\n",
              "      <td>Transferencia</td>\n",
              "    </tr>\n",
              "    <tr>\n",
              "      <th>1</th>\n",
              "      <td>00B8DM</td>\n",
              "      <td>2025-07-31</td>\n",
              "      <td>Pollo 1kg</td>\n",
              "      <td>1</td>\n",
              "      <td>123.24</td>\n",
              "      <td>123.24</td>\n",
              "      <td>4814.12</td>\n",
              "      <td>0.0</td>\n",
              "      <td>770.26</td>\n",
              "      <td>5650.43</td>\n",
              "      <td>Transferencia</td>\n",
              "    </tr>\n",
              "    <tr>\n",
              "      <th>2</th>\n",
              "      <td>00B8DM</td>\n",
              "      <td>2025-07-31</td>\n",
              "      <td>Sartén antiadherente</td>\n",
              "      <td>1</td>\n",
              "      <td>352.00</td>\n",
              "      <td>352.00</td>\n",
              "      <td>4814.12</td>\n",
              "      <td>0.0</td>\n",
              "      <td>770.26</td>\n",
              "      <td>5650.43</td>\n",
              "      <td>Transferencia</td>\n",
              "    </tr>\n",
              "    <tr>\n",
              "      <th>3</th>\n",
              "      <td>00B8DM</td>\n",
              "      <td>2025-07-31</td>\n",
              "      <td>Huevos 12pz</td>\n",
              "      <td>8</td>\n",
              "      <td>79.19</td>\n",
              "      <td>633.48</td>\n",
              "      <td>4814.12</td>\n",
              "      <td>0.0</td>\n",
              "      <td>770.26</td>\n",
              "      <td>5650.43</td>\n",
              "      <td>Transferencia</td>\n",
              "    </tr>\n",
              "    <tr>\n",
              "      <th>4</th>\n",
              "      <td>00B8DM</td>\n",
              "      <td>2025-07-31</td>\n",
              "      <td>Detergente 2kg</td>\n",
              "      <td>1</td>\n",
              "      <td>88.05</td>\n",
              "      <td>88.05</td>\n",
              "      <td>4814.12</td>\n",
              "      <td>0.0</td>\n",
              "      <td>770.26</td>\n",
              "      <td>5650.43</td>\n",
              "      <td>Transferencia</td>\n",
              "    </tr>\n",
              "  </tbody>\n",
              "</table>\n",
              "</div>"
            ],
            "text/plain": [
              "   Ticket      Fecha              Producto  Cantidad  Precio  Total_Ítem  \\\n",
              "0  00B8DM 2025-07-31          Pan Baguette         3   31.20       93.59   \n",
              "1  00B8DM 2025-07-31             Pollo 1kg         1  123.24      123.24   \n",
              "2  00B8DM 2025-07-31  Sartén antiadherente         1  352.00      352.00   \n",
              "3  00B8DM 2025-07-31           Huevos 12pz         8   79.19      633.48   \n",
              "4  00B8DM 2025-07-31        Detergente 2kg         1   88.05       88.05   \n",
              "\n",
              "   Subtotal  Descuento     IVA    Total    Método_Pago  \n",
              "0   4814.12        0.0  770.26  5650.43  Transferencia  \n",
              "1   4814.12        0.0  770.26  5650.43  Transferencia  \n",
              "2   4814.12        0.0  770.26  5650.43  Transferencia  \n",
              "3   4814.12        0.0  770.26  5650.43  Transferencia  \n",
              "4   4814.12        0.0  770.26  5650.43  Transferencia  "
            ]
          },
          "metadata": {},
          "output_type": "display_data"
        },
        {
          "name": "stdout",
          "output_type": "stream",
          "text": [
            "\n",
            "Total de filas: 11339\n"
          ]
        }
      ],
      "source": [
        "# Crear DataFrame\n",
        "df = pd.DataFrame(datos)\n",
        "\n",
        "# Convertir tipos\n",
        "df['Fecha'] = pd.to_datetime(df['Fecha'], format='%d/%m/%Y')\n",
        "df['Cantidad'] = df['Cantidad'].astype(int)\n",
        "df['Precio'] = df['Precio'].astype(float)\n",
        "df['Total_Ítem'] = df['Total_Ítem'].astype(float)\n",
        "df['Subtotal'] = df['Subtotal'].astype(float)\n",
        "df['Descuento'] = df['Descuento'].astype(float)\n",
        "df['IVA'] = df['IVA'].astype(float)\n",
        "df['Total'] = df['Total'].astype(float)\n",
        "\n",
        "# Guardar dataset\n",
        "df.to_csv('tickets_dataset.csv', index=False)\n",
        "print(\"Primeras filas del DataFrame:\")\n",
        "display(df.head())\n",
        "print(f\"\\nTotal de filas: {len(df)}\")"
      ]
    },
    {
      "cell_type": "markdown",
      "metadata": {},
      "source": [
        "**Análisis de Calidad y Estructura del Dataset:**\n",
        "A partir de la extracción y el procesamiento de los 1000 tickets, se generó un dataset que contiene un total de 11,339 filas. La inspección del DataFrame inicial muestra que la extracción fue exitosa y los datos se han organizado en un formato tabular.\n",
        "\n",
        "**Variables y Tipos de Datos:** Se identificaron 11 columnas, y los tipos de datos se han convertido de manera apropiada (por ejemplo, Fecha a tipo datetime, y las variables numéricas a tipo float64 o int64).\n",
        "\n",
        "**Valores Faltantes:** Afortunadamente, no se encontraron valores nulos en el dataset (Non-Null Count: 11339 en todas las columnas), ya que el proceso de extracción manejó estas situaciones imputando valores como 0.0 para descuentos.\n",
        "\n",
        "**Análisis de la Columna Producto:** Al examinar los valores únicos, se encontraron un total de 12 productos únicos, lo que indica una buena homogeneidad en los datos.\n",
        "\n",
        "**Desafíos Identificados:**\n",
        "Aunque el dataset está limpio de valores nulos, el siguiente paso será abordar las inconsistencias de redondeo detectadas en la fase de extracción y preparar las variables para el modelado."
      ]
    },
    {
      "cell_type": "markdown",
      "metadata": {
        "id": "q-0hSw8uFIij"
      },
      "source": [
        "### **3. Preparación de los Datos (Data Preparation)**\n",
        "\n",
        "**Limpieza de Datos**\n",
        "**Manejo de Valores Faltantes:** El proceso de extracción y el análisis inicial mostraron que no había valores nulos, ya que los campos de Descuento se imputaron con 0.0 si no estaban presentes en el ticket."
      ]
    },
    {
      "cell_type": "code",
      "execution_count": 10,
      "metadata": {},
      "outputs": [
        {
          "name": "stdout",
          "output_type": "stream",
          "text": [
            "<class 'pandas.core.frame.DataFrame'>\n",
            "RangeIndex: 11339 entries, 0 to 11338\n",
            "Data columns (total 11 columns):\n",
            " #   Column       Non-Null Count  Dtype         \n",
            "---  ------       --------------  -----         \n",
            " 0   Ticket       11339 non-null  object        \n",
            " 1   Fecha        11339 non-null  datetime64[ns]\n",
            " 2   Producto     11339 non-null  object        \n",
            " 3   Cantidad     11339 non-null  int64         \n",
            " 4   Precio       11339 non-null  float64       \n",
            " 5   Total_Ítem   11339 non-null  float64       \n",
            " 6   Subtotal     11339 non-null  float64       \n",
            " 7   Descuento    11339 non-null  float64       \n",
            " 8   IVA          11339 non-null  float64       \n",
            " 9   Total        11339 non-null  float64       \n",
            " 10  Método_Pago  11339 non-null  object        \n",
            "dtypes: datetime64[ns](1), float64(6), int64(1), object(3)\n",
            "memory usage: 974.6+ KB\n"
          ]
        },
        {
          "data": {
            "text/html": [
              "<div>\n",
              "<style scoped>\n",
              "    .dataframe tbody tr th:only-of-type {\n",
              "        vertical-align: middle;\n",
              "    }\n",
              "\n",
              "    .dataframe tbody tr th {\n",
              "        vertical-align: top;\n",
              "    }\n",
              "\n",
              "    .dataframe thead th {\n",
              "        text-align: right;\n",
              "    }\n",
              "</style>\n",
              "<table border=\"1\" class=\"dataframe\">\n",
              "  <thead>\n",
              "    <tr style=\"text-align: right;\">\n",
              "      <th></th>\n",
              "      <th>Fecha</th>\n",
              "      <th>Cantidad</th>\n",
              "      <th>Precio</th>\n",
              "      <th>Total_Ítem</th>\n",
              "      <th>Subtotal</th>\n",
              "      <th>Descuento</th>\n",
              "      <th>IVA</th>\n",
              "      <th>Total</th>\n",
              "    </tr>\n",
              "  </thead>\n",
              "  <tbody>\n",
              "    <tr>\n",
              "      <th>count</th>\n",
              "      <td>11339</td>\n",
              "      <td>11339.000000</td>\n",
              "      <td>11339.000000</td>\n",
              "      <td>1.133900e+04</td>\n",
              "      <td>1.133900e+04</td>\n",
              "      <td>11339.000000</td>\n",
              "      <td>11339.000000</td>\n",
              "      <td>1.133900e+04</td>\n",
              "    </tr>\n",
              "    <tr>\n",
              "      <th>mean</th>\n",
              "      <td>2025-07-17 07:37:41.469265664</td>\n",
              "      <td>2.784461</td>\n",
              "      <td>343.579771</td>\n",
              "      <td>1.583741e+03</td>\n",
              "      <td>1.422362e+04</td>\n",
              "      <td>541.198351</td>\n",
              "      <td>2189.187998</td>\n",
              "      <td>1.586954e+04</td>\n",
              "    </tr>\n",
              "    <tr>\n",
              "      <th>min</th>\n",
              "      <td>2025-06-01 00:00:00</td>\n",
              "      <td>1.000000</td>\n",
              "      <td>1.040000</td>\n",
              "      <td>6.260000e+00</td>\n",
              "      <td>0.000000e+00</td>\n",
              "      <td>0.000000</td>\n",
              "      <td>0.000000</td>\n",
              "      <td>0.000000e+00</td>\n",
              "    </tr>\n",
              "    <tr>\n",
              "      <th>25%</th>\n",
              "      <td>2025-06-25 00:00:00</td>\n",
              "      <td>1.000000</td>\n",
              "      <td>34.595000</td>\n",
              "      <td>7.473500e+01</td>\n",
              "      <td>5.084300e+03</td>\n",
              "      <td>0.000000</td>\n",
              "      <td>813.490000</td>\n",
              "      <td>5.884390e+03</td>\n",
              "    </tr>\n",
              "    <tr>\n",
              "      <th>50%</th>\n",
              "      <td>2025-07-17 00:00:00</td>\n",
              "      <td>2.000000</td>\n",
              "      <td>81.550000</td>\n",
              "      <td>1.246800e+02</td>\n",
              "      <td>5.682630e+03</td>\n",
              "      <td>0.000000</td>\n",
              "      <td>909.220000</td>\n",
              "      <td>6.571310e+03</td>\n",
              "    </tr>\n",
              "    <tr>\n",
              "      <th>75%</th>\n",
              "      <td>2025-08-09 00:00:00</td>\n",
              "      <td>3.000000</td>\n",
              "      <td>335.510000</td>\n",
              "      <td>5.829350e+02</td>\n",
              "      <td>6.155600e+03</td>\n",
              "      <td>307.780000</td>\n",
              "      <td>946.250000</td>\n",
              "      <td>6.862210e+03</td>\n",
              "    </tr>\n",
              "    <tr>\n",
              "      <th>max</th>\n",
              "      <td>2025-09-02 00:00:00</td>\n",
              "      <td>50.000000</td>\n",
              "      <td>23314.880000</td>\n",
              "      <td>1.016999e+06</td>\n",
              "      <td>1.028398e+06</td>\n",
              "      <td>51419.890000</td>\n",
              "      <td>156316.450000</td>\n",
              "      <td>1.133294e+06</td>\n",
              "    </tr>\n",
              "    <tr>\n",
              "      <th>std</th>\n",
              "      <td>NaN</td>\n",
              "      <td>4.854173</td>\n",
              "      <td>853.282231</td>\n",
              "      <td>1.632679e+04</td>\n",
              "      <td>5.352910e+04</td>\n",
              "      <td>2707.599789</td>\n",
              "      <td>8131.923758</td>\n",
              "      <td>5.895361e+04</td>\n",
              "    </tr>\n",
              "  </tbody>\n",
              "</table>\n",
              "</div>"
            ],
            "text/plain": [
              "                               Fecha      Cantidad        Precio  \\\n",
              "count                          11339  11339.000000  11339.000000   \n",
              "mean   2025-07-17 07:37:41.469265664      2.784461    343.579771   \n",
              "min              2025-06-01 00:00:00      1.000000      1.040000   \n",
              "25%              2025-06-25 00:00:00      1.000000     34.595000   \n",
              "50%              2025-07-17 00:00:00      2.000000     81.550000   \n",
              "75%              2025-08-09 00:00:00      3.000000    335.510000   \n",
              "max              2025-09-02 00:00:00     50.000000  23314.880000   \n",
              "std                              NaN      4.854173    853.282231   \n",
              "\n",
              "         Total_Ítem      Subtotal     Descuento            IVA         Total  \n",
              "count  1.133900e+04  1.133900e+04  11339.000000   11339.000000  1.133900e+04  \n",
              "mean   1.583741e+03  1.422362e+04    541.198351    2189.187998  1.586954e+04  \n",
              "min    6.260000e+00  0.000000e+00      0.000000       0.000000  0.000000e+00  \n",
              "25%    7.473500e+01  5.084300e+03      0.000000     813.490000  5.884390e+03  \n",
              "50%    1.246800e+02  5.682630e+03      0.000000     909.220000  6.571310e+03  \n",
              "75%    5.829350e+02  6.155600e+03    307.780000     946.250000  6.862210e+03  \n",
              "max    1.016999e+06  1.028398e+06  51419.890000  156316.450000  1.133294e+06  \n",
              "std    1.632679e+04  5.352910e+04   2707.599789    8131.923758  5.895361e+04  "
            ]
          },
          "execution_count": 10,
          "metadata": {},
          "output_type": "execute_result"
        }
      ],
      "source": [
        "# Calidad del dataset y estructura de datos\n",
        "df.info()\n",
        "df.describe()"
      ]
    },
    {
      "cell_type": "markdown",
      "metadata": {},
      "source": [
        "Al no tener nulos en este caso no hace falta usar la funcion fillna, y los descuentos si tienen un promedio de 546 aproximado en su media y si maximo de 51419 aproximado en su maximo entonces igual el descuento podria ser influyente hasta que veamos en la seleccion de caracteristicas si es que es importante."
      ]
    },
    {
      "cell_type": "code",
      "execution_count": 11,
      "metadata": {},
      "outputs": [
        {
          "name": "stdout",
          "output_type": "stream",
          "text": [
            "\n",
            "Análisis de la Columna Producto\n",
            "['Pan Baguette' 'Pollo 1kg' 'Sartén antiadherente' 'Huevos 12pz'\n",
            " 'Detergente 2kg' 'Leche 1L' 'Audífonos' 'Licuadora' 'Refresco 2L'\n",
            " 'Microondas' 'Arroz 1kg' 'Celular básico']\n",
            "\n",
            "Cantidad de productos unicos totales:\n",
            "12\n"
          ]
        }
      ],
      "source": [
        "# Análisis de Productos\n",
        "print(\"\\nAnálisis de la Columna Producto\")\n",
        "print(df['Producto'].unique())\n",
        "\n",
        "#ver cantidad de procutos unicos totales\n",
        "print(\"\\nCantidad de productos unicos totales:\")\n",
        "print(len(df['Producto'].unique()))"
      ]
    },
    {
      "cell_type": "markdown",
      "metadata": {},
      "source": [
        "En mi caso tuve que volver a hacer este proceso 3 veces y porque tuve problemas como las capturas del regex fueron por las cantidades y los tickets que son variables que en algunos vi que la cantidad estaba en el inicio entonces tuve que adaptarlo diferente."
      ]
    },
    {
      "cell_type": "code",
      "execution_count": 12,
      "metadata": {},
      "outputs": [
        {
          "name": "stdout",
          "output_type": "stream",
          "text": [
            "\n",
            "Dataset guardado como 'tickets_dataset_limpio.csv'\n"
          ]
        }
      ],
      "source": [
        "# Guardar dataset\n",
        "df.to_csv('tickets_dataset_limpio.csv', index=False)\n",
        "print(\"\\nDataset guardado como 'tickets_dataset_limpio.csv'\")"
      ]
    },
    {
      "cell_type": "code",
      "execution_count": 13,
      "metadata": {},
      "outputs": [
        {
          "name": "stdout",
          "output_type": "stream",
          "text": [
            "<class 'pandas.core.frame.DataFrame'>\n",
            "RangeIndex: 11339 entries, 0 to 11338\n",
            "Data columns (total 11 columns):\n",
            " #   Column       Non-Null Count  Dtype  \n",
            "---  ------       --------------  -----  \n",
            " 0   Ticket       11339 non-null  object \n",
            " 1   Fecha        11339 non-null  object \n",
            " 2   Producto     11339 non-null  object \n",
            " 3   Cantidad     11339 non-null  int64  \n",
            " 4   Precio       11339 non-null  float64\n",
            " 5   Total_Ítem   11339 non-null  float64\n",
            " 6   Subtotal     11339 non-null  float64\n",
            " 7   Descuento    11339 non-null  float64\n",
            " 8   IVA          11339 non-null  float64\n",
            " 9   Total        11339 non-null  float64\n",
            " 10  Método_Pago  11339 non-null  object \n",
            "dtypes: float64(6), int64(1), object(4)\n",
            "memory usage: 974.6+ KB\n",
            "<class 'pandas.core.frame.DataFrame'>\n",
            "RangeIndex: 11339 entries, 0 to 11338\n",
            "Data columns (total 11 columns):\n",
            " #   Column       Non-Null Count  Dtype         \n",
            "---  ------       --------------  -----         \n",
            " 0   Ticket       11339 non-null  object        \n",
            " 1   Fecha        11339 non-null  datetime64[ns]\n",
            " 2   Producto     11339 non-null  object        \n",
            " 3   Cantidad     11339 non-null  int64         \n",
            " 4   Precio       11339 non-null  float64       \n",
            " 5   Total_Ítem   11339 non-null  float64       \n",
            " 6   Subtotal     11339 non-null  float64       \n",
            " 7   Descuento    11339 non-null  float64       \n",
            " 8   IVA          11339 non-null  float64       \n",
            " 9   Total        11339 non-null  float64       \n",
            " 10  Método_Pago  11339 non-null  object        \n",
            "dtypes: datetime64[ns](1), float64(6), int64(1), object(3)\n",
            "memory usage: 974.6+ KB\n"
          ]
        }
      ],
      "source": [
        "df=pd.read_csv('tickets_dataset_limpio.csv')\n",
        "df.info()\n",
        "#convertir fecha en datatime\n",
        "df['Fecha']=pd.to_datetime(df['Fecha'])\n",
        "df.info()"
      ]
    },
    {
      "cell_type": "markdown",
      "metadata": {},
      "source": [
        "#### **Ingeniería de Features:**\n",
        "\n",
        "Ahora se considera crear nuevas columnas que podrian infrulenciar el modelo de regresión lineal.\n",
        "\n",
        "**Crear columnas derivadas:** \n",
        "* Día de la semana\n",
        "* Mes\n",
        "* Total por ítem (Cantidad * Precio).\n",
        "* Codificar variables categóricas (Producto, Método de pago) con dummies."
      ]
    },
    {
      "cell_type": "code",
      "execution_count": 14,
      "metadata": {},
      "outputs": [
        {
          "name": "stdout",
          "output_type": "stream",
          "text": [
            "\n",
            "=== Análisis de Nuevas Features ===\n",
            "Filas totales: 11339\n",
            "Productos únicos: 12\n",
            "\n",
            "Distribución de Día_Semana:\n",
            " Día_Semana\n",
            "Domingo      1834\n",
            "Viernes      1806\n",
            "Martes       1699\n",
            "Jueves       1627\n",
            "Lunes        1463\n",
            "Miércoles    1461\n",
            "Sábado       1449\n",
            "Name: count, dtype: int64\n",
            "\n",
            "Distribución de Mes:\n",
            " Mes\n",
            "Julio         4001\n",
            "Agosto        3612\n",
            "Junio         3514\n",
            "Septiembre     212\n",
            "Name: count, dtype: int64\n",
            "\n",
            "Columnas dummy para Producto:\n",
            " ['Producto_Arroz 1kg', 'Producto_Audífonos', 'Producto_Celular básico', 'Producto_Detergente 2kg', 'Producto_Huevos 12pz', 'Producto_Leche 1L', 'Producto_Licuadora', 'Producto_Microondas', 'Producto_Pan Baguette', 'Producto_Pollo 1kg', 'Producto_Refresco 2L', 'Producto_Sartén antiadherente']\n",
            "\n",
            "Columnas dummy para Método_Pago:\n",
            " ['Método_Pago_Efectivo', 'Método_Pago_Tarjeta', 'Método_Pago_Transferencia']\n"
          ]
        }
      ],
      "source": [
        "# Día de la Semana\n",
        "df['Día_Semana'] = pd.to_datetime(df['Fecha'], format='%d/%m/%Y').dt.day_name(locale='es_ES')\n",
        "# Mes\n",
        "df['Mes'] = pd.to_datetime(df['Fecha'], format='%d/%m/%Y').dt.month_name(locale='es_ES')\n",
        "# Total Calculado\n",
        "df['Total_Calculado'] = df['Cantidad'] * df['Precio']\n",
        "\n",
        "# Codificar variables categóricas\n",
        "# Dummies para Producto\n",
        "producto_dummies = pd.get_dummies(df['Producto'], prefix='Producto', dtype=int)\n",
        "df = pd.concat([df, producto_dummies], axis=1)\n",
        "# Dummies para Método_Pago\n",
        "metodo_pago_dummies = pd.get_dummies(df['Método_Pago'], prefix='Método_Pago', dtype=int)\n",
        "df = pd.concat([df, metodo_pago_dummies], axis=1)\n",
        "\n",
        "# Análisis de nuevas features\n",
        "print(\"\\n=== Análisis de Nuevas Features ===\")\n",
        "print(f\"Filas totales: {len(df)}\")\n",
        "print(f\"Productos únicos: {len(df['Producto'].unique())}\")\n",
        "print(\"\\nDistribución de Día_Semana:\\n\", df['Día_Semana'].value_counts())\n",
        "print(\"\\nDistribución de Mes:\\n\", df['Mes'].value_counts())\n",
        "print(\"\\nColumnas dummy para Producto:\\n\", list(producto_dummies.columns))\n",
        "print(\"\\nColumnas dummy para Método_Pago:\\n\", list(metodo_pago_dummies.columns))"
      ]
    },
    {
      "cell_type": "markdown",
      "metadata": {},
      "source": [
        "#### Validación y Análisis Exploratorio\n",
        "\n",
        "Empezamos con una validación de los precios porque al ver el los primeros registros estos discrepan con algunos valores de cantidad y precio contra total item entonces el objetivo es validar los datos y ver si es necesario hacer alguna modificación para que los datos sean correctos."
      ]
    },
    {
      "cell_type": "code",
      "execution_count": 15,
      "metadata": {},
      "outputs": [
        {
          "name": "stdout",
          "output_type": "stream",
          "text": [
            "\n",
            "Discrepancias en Total_Ítem: 2069\n",
            "\n",
            "Ejemplos de discrepancias:\n"
          ]
        },
        {
          "data": {
            "text/html": [
              "<div>\n",
              "<style scoped>\n",
              "    .dataframe tbody tr th:only-of-type {\n",
              "        vertical-align: middle;\n",
              "    }\n",
              "\n",
              "    .dataframe tbody tr th {\n",
              "        vertical-align: top;\n",
              "    }\n",
              "\n",
              "    .dataframe thead th {\n",
              "        text-align: right;\n",
              "    }\n",
              "</style>\n",
              "<table border=\"1\" class=\"dataframe\">\n",
              "  <thead>\n",
              "    <tr style=\"text-align: right;\">\n",
              "      <th></th>\n",
              "      <th>Ticket</th>\n",
              "      <th>Producto</th>\n",
              "      <th>Cantidad</th>\n",
              "      <th>Precio</th>\n",
              "      <th>Total_Ítem</th>\n",
              "      <th>Total_Calculado</th>\n",
              "      <th>Discrepancia</th>\n",
              "    </tr>\n",
              "  </thead>\n",
              "  <tbody>\n",
              "    <tr>\n",
              "      <th>3</th>\n",
              "      <td>00B8DM</td>\n",
              "      <td>Huevos 12pz</td>\n",
              "      <td>8</td>\n",
              "      <td>79.19</td>\n",
              "      <td>633.48</td>\n",
              "      <td>633.52</td>\n",
              "      <td>0.04</td>\n",
              "    </tr>\n",
              "    <tr>\n",
              "      <th>9</th>\n",
              "      <td>00B8DM</td>\n",
              "      <td>Huevos 12pz</td>\n",
              "      <td>2</td>\n",
              "      <td>76.15</td>\n",
              "      <td>152.29</td>\n",
              "      <td>152.30</td>\n",
              "      <td>0.01</td>\n",
              "    </tr>\n",
              "    <tr>\n",
              "      <th>14</th>\n",
              "      <td>026FPZ</td>\n",
              "      <td>Detergente 2kg</td>\n",
              "      <td>8</td>\n",
              "      <td>89.55</td>\n",
              "      <td>716.38</td>\n",
              "      <td>716.40</td>\n",
              "      <td>0.02</td>\n",
              "    </tr>\n",
              "    <tr>\n",
              "      <th>15</th>\n",
              "      <td>026FPZ</td>\n",
              "      <td>Huevos 12pz</td>\n",
              "      <td>6</td>\n",
              "      <td>83.64</td>\n",
              "      <td>501.83</td>\n",
              "      <td>501.84</td>\n",
              "      <td>0.01</td>\n",
              "    </tr>\n",
              "    <tr>\n",
              "      <th>18</th>\n",
              "      <td>026FPZ</td>\n",
              "      <td>Pan Baguette</td>\n",
              "      <td>3</td>\n",
              "      <td>28.63</td>\n",
              "      <td>85.88</td>\n",
              "      <td>85.89</td>\n",
              "      <td>0.01</td>\n",
              "    </tr>\n",
              "  </tbody>\n",
              "</table>\n",
              "</div>"
            ],
            "text/plain": [
              "    Ticket        Producto  Cantidad  Precio  Total_Ítem  Total_Calculado  \\\n",
              "3   00B8DM     Huevos 12pz         8   79.19      633.48           633.52   \n",
              "9   00B8DM     Huevos 12pz         2   76.15      152.29           152.30   \n",
              "14  026FPZ  Detergente 2kg         8   89.55      716.38           716.40   \n",
              "15  026FPZ     Huevos 12pz         6   83.64      501.83           501.84   \n",
              "18  026FPZ    Pan Baguette         3   28.63       85.88            85.89   \n",
              "\n",
              "    Discrepancia  \n",
              "3           0.04  \n",
              "9           0.01  \n",
              "14          0.02  \n",
              "15          0.01  \n",
              "18          0.01  "
            ]
          },
          "metadata": {},
          "output_type": "display_data"
        },
        {
          "name": "stdout",
          "output_type": "stream",
          "text": [
            "\n",
            "Estadistica de la discrepancia:\n",
            "count    2069.000000\n",
            "mean        0.020213\n",
            "std         0.029672\n",
            "min         0.010000\n",
            "25%         0.010000\n",
            "50%         0.010000\n",
            "75%         0.010000\n",
            "max         0.240000\n",
            "Name: Discrepancia, dtype: float64\n"
          ]
        }
      ],
      "source": [
        "# Verificar discrepancias en Total_Ítem\n",
        "df['Discrepancia'] = abs(df['Total_Ítem'] - df['Total_Calculado'])\n",
        "discrepancias = df[df['Discrepancia'] > 0.01]\n",
        "print(f\"\\nDiscrepancias en Total_Ítem: {len(discrepancias)}\")\n",
        "if not discrepancias.empty:\n",
        "    print(\"\\nEjemplos de discrepancias:\")\n",
        "    display(discrepancias[['Ticket', 'Producto', 'Cantidad', 'Precio', 'Total_Ítem', 'Total_Calculado', 'Discrepancia']].head())\n",
        "    \n",
        "#visualizar la estadistica de la discrepancia\n",
        "print(\"\\nEstadistica de la discrepancia:\")\n",
        "print(discrepancias['Discrepancia'].describe())\n"
      ]
    },
    {
      "cell_type": "markdown",
      "metadata": {},
      "source": [
        "Ahora vamos a hacer 3 datasets, uno con las discrepancias, otro quitando las discrepancias y otro con un umbral de 0.05 para los outliers porque bien en este caso un pequeño error en el redondeo podria ser reconocido como un error que posiblemente pueda ser influenciable."
      ]
    },
    {
      "cell_type": "code",
      "execution_count": 16,
      "metadata": {},
      "outputs": [
        {
          "name": "stdout",
          "output_type": "stream",
          "text": [
            "filas: 11339\n"
          ]
        }
      ],
      "source": [
        "# Dataset con las discrepancias (Discrepancia > 0.01)\n",
        "df1 = df.copy()\n",
        "# print(f\"Dataset con discrepancias guardado\")\n",
        "print(f\"filas: {df1.shape[0]}\")"
      ]
    },
    {
      "cell_type": "code",
      "execution_count": 17,
      "metadata": {},
      "outputs": [
        {
          "name": "stdout",
          "output_type": "stream",
          "text": [
            "Filas: 9270\n"
          ]
        }
      ],
      "source": [
        "# Dataset quitando las discrepancias (Discrepancia <= 0.01)\n",
        "df2= df[df['Discrepancia'] <= 0.01].copy()\n",
        "print(f\"Filas: {df2.shape[0]}\")"
      ]
    },
    {
      "cell_type": "code",
      "execution_count": 18,
      "metadata": {},
      "outputs": [
        {
          "name": "stdout",
          "output_type": "stream",
          "text": [
            "Filas: 11164\n"
          ]
        }
      ],
      "source": [
        "# Dataset con manejo de outliers (umbral de 0.05)\n",
        "# Para Discrepancia <= 0.05: Ajustar Total_Ítem a Total_Calculado (asume redondeo)\n",
        "# Para Discrepancia > 0.05: Eliminar como outliers (o manejar según necesidad; aquí eliminamos)\n",
        "df3 = df.copy()\n",
        "cond_redondeo = (df3['Discrepancia'] <= 0.05)\n",
        "print(f\"Filas: {df3[cond_redondeo].shape[0]}\")"
      ]
    },
    {
      "cell_type": "markdown",
      "metadata": {},
      "source": [
        "**Análisis de Discrepancias:** Se creó una columna Total_Calculado (Cantidad * Precio) para comparar con el Total_Ítem extraído directamente de los PDFs. Esto reveló 2069 discrepancias que, aunque pequeñas (la mayoría de $0.01), indicaban posibles errores de redondeo o extracción. Se crearon tres datasets para explorar el impacto de estas discrepancias:\n",
        "\n",
        "df1: El dataset original con todas las discrepancias.\n",
        "\n",
        "df2: Un dataset sin las filas con discrepancias (donde Discrepancia ≤ 0.01), lo que resultó en 9270 filas.\n",
        "\n",
        "df3: Un dataset con un umbral de $0.05 para la discrepancia, que resultó en 11,164 filas."
      ]
    },
    {
      "cell_type": "markdown",
      "metadata": {},
      "source": [
        "Ya con estos tres datasets que hemos generado, vamos a hacer unos modelos lineales para ver que tan bueno es su varianza y que tan bueno es su $R^2$"
      ]
    },
    {
      "cell_type": "code",
      "execution_count": 34,
      "metadata": {},
      "outputs": [
        {
          "name": "stdout",
          "output_type": "stream",
          "text": [
            "           Cantidad  Subtotal  Descuento       IVA     Total    Precio\n",
            "Cantidad   1.000000  0.447870   0.452416  0.447602  0.447617  0.151404\n",
            "Subtotal   0.447870  1.000000   0.998941  0.999997  0.999997  0.266531\n",
            "Descuento  0.452416  0.998941   1.000000  0.998825  0.998825  0.268789\n",
            "IVA        0.447602  0.999997   0.998825  1.000000  1.000000  0.266395\n",
            "Total      0.447617  0.999997   0.998825  1.000000  1.000000  0.266409\n",
            "Precio     0.151404  0.266531   0.268789  0.266395  0.266409  1.000000\n"
          ]
        },
        {
          "data": {
            "image/png": "[encoded data removed]",
            "text/plain": [
              "<Figure size 1000x800 with 2 Axes>"
            ]
          },
          "metadata": {},
          "output_type": "display_data"
        }
      ],
      "source": [
        "# Seleccionar las columnas numéricas relevantes para el mapa de calor\n",
        "# Se excluyen las variables no numéricas o irrelevantes para este analisis.\n",
        "numeric_cols = ['Cantidad', 'Subtotal', 'Descuento', 'IVA', 'Total', 'Precio']\n",
        "correlation_df = df1[numeric_cols]\n",
        "\n",
        "# Calcular la matriz de correlación\n",
        "correlation_matrix = correlation_df.corr()\n",
        "print(correlation_matrix)\n",
        "\n",
        "\n",
        "# Crear el mapa de calor\n",
        "plt.figure(figsize=(10, 8))\n",
        "sns.heatmap(correlation_matrix, annot=True, cmap='coolwarm', fmt=\".2f\", linewidths=0.5)\n",
        "plt.title('Mapa de Calor de Correlación de Variables Originales (df1)')\n",
        "plt.show()"
      ]
    },
    {
      "cell_type": "code",
      "execution_count": 39,
      "metadata": {},
      "outputs": [
        {
          "data": {
            "image/png": "[encoded data removed]",
            "text/plain": [
              "<Figure size 1000x800 with 2 Axes>"
            ]
          },
          "metadata": {},
          "output_type": "display_data"
        },
        {
          "name": "stdout",
          "output_type": "stream",
          "text": [
            "VIF de las variables originales:\n",
            "    Variable           VIF\n",
            "0   Subtotal  8.874088e+12\n",
            "1  Descuento  2.205625e+10\n",
            "2        IVA  8.013522e+12\n",
            "3      Total  1.359628e+06\n"
          ]
        },
        {
          "data": {
            "image/png": "[encoded data removed]",
            "text/plain": [
              "<Figure size 1000x800 with 2 Axes>"
            ]
          },
          "metadata": {},
          "output_type": "display_data"
        },
        {
          "name": "stdout",
          "output_type": "stream",
          "text": [
            "Varianza explicada por cada componente principal:\n",
            "[0.99957305]\n",
            "Proporción acumulada de varianza explicada:\n",
            "[0.99957305]\n"
          ]
        }
      ],
      "source": [
        "# Preparación de los datos: Seleccionar columnas numéricas relevantes para PCA\n",
        "numeric_cols = ['Subtotal', 'Descuento', 'IVA', 'Total']\n",
        "X = df[numeric_cols]\n",
        "\n",
        "# Eliminar filas con valores faltantes (si las hay)\n",
        "X = X.dropna()\n",
        "\n",
        "# Estandarizar los datos (necesario para PCA)\n",
        "scaler = StandardScaler()\n",
        "X_scaled = scaler.fit_transform(X)\n",
        "\n",
        "# Calcular la matriz de correlación original\n",
        "correlation_matrix = pd.DataFrame(X).corr()\n",
        "\n",
        "# Visualizar la matriz de correlación original con un mapa de calor\n",
        "plt.figure(figsize=(10, 8))\n",
        "sns.heatmap(correlation_matrix, annot=True, cmap='coolwarm', fmt=\".2f\", linewidths=0.5)\n",
        "plt.title('Mapa de Calor de Correlación de Variables Originales')\n",
        "plt.show()\n",
        "\n",
        "# Calcular el VIF para evaluar multicolinealidad\n",
        "vif_data = pd.DataFrame()\n",
        "vif_data[\"Variable\"] = X.columns\n",
        "vif_data[\"VIF\"] = [variance_inflation_factor(X.values, i) for i in range(X.shape[1])]\n",
        "print(\"VIF de las variables originales:\")\n",
        "print(vif_data)\n",
        "\n",
        "# Aplicar PCA para reducir la dimensionalidad\n",
        "pca = PCA(n_components=0.95)  # Conservar el 95% de la varianza\n",
        "X_pca = pca.fit_transform(X_scaled)\n",
        "\n",
        "# Crear un DataFrame con los componentes principales\n",
        "pca_columns = [f'PC{i+1}' for i in range(X_pca.shape[1])]\n",
        "X_pca_df = pd.DataFrame(X_pca, columns=pca_columns, index=X.index)\n",
        "\n",
        "# Calcular la matriz de correlación de los componentes principales\n",
        "correlation_matrix_pca = X_pca_df.corr()\n",
        "\n",
        "# Visualizar la matriz de correlación de los componentes principales\n",
        "plt.figure(figsize=(10, 8))\n",
        "sns.heatmap(correlation_matrix_pca, annot=True, cmap='coolwarm', fmt=\".2f\", linewidths=0.5)\n",
        "plt.title('Mapa de Calor de Correlación de Componentes Principales (PCA)')\n",
        "plt.show()\n",
        "\n",
        "# Imprimir la varianza explicada por cada componente principal\n",
        "print(\"Varianza explicada por cada componente principal:\")\n",
        "print(pca.explained_variance_ratio_)\n",
        "\n",
        "# Imprimir la proporción acumulada de varianza explicada\n",
        "print(\"Proporción acumulada de varianza explicada:\")\n",
        "print(np.cumsum(pca.explained_variance_ratio_))\n",
        "\n",
        "# Crear un nuevo DataFrame eliminando las columnas usadas en PCA\n",
        "df_updated = df.drop(columns=numeric_cols)\n",
        "\n",
        "# Concatenar los componentes principales al DataFrame actualizado\n",
        "df_updated = pd.concat([df_updated, X_pca_df], axis=1)"
      ]
    },
    {
      "cell_type": "markdown",
      "metadata": {
        "id": "XV-jaEr3FPMM"
      },
      "source": [
        "### 4. Modelado (Modeling)\n",
        "\n",
        "Esta fase se centró en construir y entrenar modelos de regresión lineal para predecir el valor total de las ventas. El proceso fue iterativo, comenzando con un modelo de línea de base y luego aplicando técnicas avanzadas para mejorar su rendimiento y robustez.\n",
        "\n"
      ]
    },
    {
      "cell_type": "markdown",
      "metadata": {},
      "source": [
        "1. Modelo OLS (Ordinary Least Squares)\n"
      ]
    },
    {
      "cell_type": "code",
      "execution_count": null,
      "metadata": {},
      "outputs": [],
      "source": []
    },
    {
      "cell_type": "markdown",
      "metadata": {},
      "source": [
        "2. Modelo de Regresión Lasso (L1 Regularización)\n"
      ]
    },
    {
      "cell_type": "markdown",
      "metadata": {},
      "source": [
        "3. Modelo de regresion Robusto\n"
      ]
    },
    {
      "cell_type": "markdown",
      "metadata": {},
      "source": [
        "4. Modelo de Regresión RANSAC (RANdom SAmple Consensus)"
      ]
    },
    {
      "cell_type": "markdown",
      "metadata": {
        "id": "Bum7mRZkFYGO"
      },
      "source": [
        "### 5. Evaluación (Evaluation)\n",
        "\n",
        "Objetivo: Evaluar el desempeño de los modelos y validar el dataset preparado.\n",
        "Actividades Realizadas:\n",
        "\n",
        "Métricas: Calcular R², MSE, RMSE con sklearn.metrics.\n",
        "Validación Cruzada: cross_val_score() para robustez.\n",
        "Comparación: Evaluar OLS vs. regresiones robustas (Ridge, Lasso, RANSAC) en presencia de outliers o multicolinealidad.\n",
        "Iteración: Si el desempeño es bajo, regresar a fases previas (e.g., mejorar extracción regex).\n",
        "\n",
        "\n",
        "Herramientas: sklearn.metrics, visualizaciones con matplotlib y seaborn."
      ]
    },
    {
      "cell_type": "markdown",
      "metadata": {
        "id": "Dkh-5gV-Fa8J"
      },
      "source": [
        "### 6. Despliegue (Deployment)\n",
        "\n",
        "Objetivo: Preparar para implementación futura, aunque en esta práctica académica sea conceptual.\n",
        "Actividades Realizadas: Exportar dataset y modelos (e.g., joblib.dump(model, 'modelo.pkl')), documentar pipeline en un script reproducible.\n",
        "Consideraciones: Posible integración en una app web para predicciones en tiempo real, pero limitada a la práctica.\n",
        "\n",
        "Esta metodología CRISP-DM asegura un enfoque científico, iterativo y data-driven, adaptado a la extracción de datos de PDFs. Se documenta con código en Jupyter Notebooks para trazabilidad. En total, se procesaron [especifica, e.g., 50 PDFs], generando un dataset de [e.g., 200 filas]. Si necesitas código específico para alguna fase o ajustar a otro marco (e.g., SEMMA), avísame para refinarlo paso a paso antes de avanzar al siguiente apartado del reporte."
      ]
    }
  ],
  "metadata": {
    "colab": {
      "provenance": []
    },
    "kernelspec": {
      "display_name": "Python 3",
      "name": "python3"
    },
    "language_info": {
      "codemirror_mode": {
        "name": "ipython",
        "version": 3
      },
      "file_extension": ".py",
      "mimetype": "text/x-python",
      "name": "python",
      "nbconvert_exporter": "python",
      "pygments_lexer": "ipython3",
      "version": "3.13.1"
    }
  },
  "nbformat": 4,
  "nbformat_minor": 0
}
